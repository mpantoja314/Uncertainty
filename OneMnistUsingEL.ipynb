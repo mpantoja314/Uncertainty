{
  "cells": [
    {
      "cell_type": "markdown",
      "source": [
        "## MNIST Binary classifier using Evidential Learning\n",
        "## TODO create a 10 class binary classifier on MPI to run in parallel"
      ],
      "metadata": {
        "id": "jEhhrNYDfJxA"
      }
    },
    {
      "cell_type": "code",
      "execution_count": null,
      "metadata": {
        "id": "LtORdzUnKLD0"
      },
      "outputs": [],
      "source": [
        "#from mpi4py import MPI\n",
        "#import numpy as np\n",
        "#from tensorflow import keras\n",
        "#from tensorflow.keras import layers\n",
        "#import keras\n",
        "#from scipy import ndimage\n",
        "#import matplotlib.pyplot as plt\n",
        "#import cv2\n",
        "#import tensorflow as tf\n",
        "#from keras import backend as K\n",
        "import numpy as np\n",
        "from tensorflow import keras\n",
        "from tensorflow.keras import layers\n",
        "# import keras  <-- Remove this line\n",
        "from scipy import ndimage\n",
        "import matplotlib.pyplot as plt\n",
        "import cv2\n",
        "import tensorflow as tf\n",
        "from tensorflow.keras import backend as K # <-- Change this import\n",
        "\n",
        "\n",
        "from scipy import stats\n",
        "from sklearn.calibration import calibration_curve\n",
        "from sklearn.metrics import brier_score_loss\n",
        "\n",
        "\n",
        "import warnings\n",
        "warnings.filterwarnings('ignore')"
      ]
    },
    {
      "cell_type": "code",
      "execution_count": null,
      "metadata": {
        "id": "oE-ewuv1z66i"
      },
      "outputs": [],
      "source": [
        "digit=2\n",
        "num_classes=2\n",
        "input_shape = (28, 28, 1)\n",
        "\n",
        "#inp = keras.Input(shape=input_shape)\n",
        "\n",
        "#x = layers.Conv2D(filters=5, kernel_size=(5,5), activation='relu')(inp)\n",
        "#x = layers.Conv2D(filters=5, kernel_size=(3, 3), activation='relu')(x)\n",
        "#x = layers.Flatten()(x)\n",
        "#x = layers.Dense(units=512, activation='relu')(x)\n",
        "#x = layers.Dense(units=128, activation='relu')(x)\n",
        "#x = layers.Dense(units=2)(x)\n",
        "\n",
        "#model = keras.Model(inp, x)\n",
        "\n",
        "#model.summary()\n",
        "inp = keras.Input(shape=input_shape)\n",
        "\n",
        "x = layers.Conv2D(filters=32, kernel_size=(3,3), activation='relu')(inp)\n",
        "x = layers.Conv2D(filters=64, kernel_size=(3, 3), activation='relu')(x)\n",
        "x = layers.MaxPooling2D(pool_size=(2, 2))(x)\n",
        "x = layers.Dropout(0.25)(x)\n",
        "x = layers.Flatten()(x)\n",
        "x = layers.Dense(units=512, activation='relu')(x)\n",
        "x = layers.Dense(units=128, activation='relu')(x)\n",
        "x = layers.Dense(units=2)(x)\n",
        "model = keras.Model(inp, x)\n"
      ]
    },
    {
      "cell_type": "code",
      "execution_count": null,
      "metadata": {
        "id": "w5VRxwbSz_7Q"
      },
      "outputs": [],
      "source": [
        "# Source: https://github.com/michaeleh/Evidential-Deep-Learning-to-Quantify-Classification-Uncertainty/blob/main/demo.ipynb\n",
        "\n",
        "lgamma = tf.math.lgamma\n",
        "digamma = tf.math.digamma\n",
        "\n",
        "epochs = [1]\n",
        "\n",
        "#def KL(alpha, num_classes=10):\n",
        "def KL(alpha, num_classes=2):\n",
        "    one = K.constant(np.ones((1,num_classes)),dtype=tf.float32)\n",
        "    S = K.sum(alpha,axis=1,keepdims=True)\n",
        "\n",
        "    kl = lgamma(S) - K.sum(lgamma(alpha),axis=1,keepdims=True) +\\\n",
        "    K.sum(lgamma(one),axis=1,keepdims=True) - lgamma(K.sum(one,axis=1,keepdims=True)) +\\\n",
        "    K.sum((alpha - one)*(digamma(alpha)-digamma(S)),axis=1,keepdims=True)\n",
        "\n",
        "    return kl\n",
        "\n",
        "\n",
        "def loss_func(y_true, output):\n",
        "    y_evidence = K.relu(output)\n",
        "    alpha = y_evidence+1\n",
        "    S = K.sum(alpha,axis=1,keepdims=True)\n",
        "    p = alpha / S\n",
        "\n",
        "    err = K.sum(K.pow((y_true-p),2),axis=1,keepdims=True)\n",
        "    var = K.sum(alpha*(S-alpha)/(S*S*(S+1)),axis=1,keepdims=True)\n",
        "\n",
        "    l =  K.sum(err + var,axis=1,keepdims=True)\n",
        "    l = K.sum(l)\n",
        "\n",
        "\n",
        "    kl =  K.minimum(1.0, epochs[0]/50) * K.sum(KL((1-y_true)*(alpha)+y_true))\n",
        "    return l + kl\n"
      ]
    },
    {
      "cell_type": "code",
      "execution_count": null,
      "metadata": {
        "id": "DS6DFPrw0Gq3",
        "colab": {
          "base_uri": "https://localhost:8080/"
        },
        "outputId": "b08fb47c-8339-4ac5-dea2-b3d34d8a6f80"
      },
      "outputs": [
        {
          "output_type": "stream",
          "name": "stdout",
          "text": [
            "0\n",
            "1\n",
            "2\n",
            "3\n",
            "4\n",
            "5\n",
            "6\n",
            "7\n",
            "8\n",
            "9\n",
            "734.8988962173462\n"
          ]
        }
      ],
      "source": [
        "import time\n",
        "\n",
        "######For one digit at a time #################\n",
        "digit=2\n",
        "num_classes=2\n",
        "input_shape = (28, 28, 1)\n",
        "\n",
        "# the data, split between train and test sets\n",
        "(x_train, y_train), (x_test, y_test) = keras.datasets.mnist.load_data()\n",
        "\n",
        "# Scale images to the [0, 1] range\n",
        "x_train = x_train.astype(\"float32\") / 255\n",
        "x_test = x_test.astype(\"float32\") / 255\n",
        "# Make sure images have shape (28, 28, 1)\n",
        "x_train = np.expand_dims(x_train, -1)\n",
        "x_test = np.expand_dims(x_test, -1)\n",
        "\n",
        "start = time.time()\n",
        "\n",
        "batch_size = 1024\n",
        "model.compile(loss=loss_func, optimizer=\"adam\", metrics=['accuracy'])\n",
        "\n",
        "models = []\n",
        "\n",
        "import time\n",
        "start = time.time()\n",
        "for digit in range(10):\n",
        "  print(digit)\n",
        "\n",
        "  #only one digit at a time\n",
        "  y_train_digit = (y_train == digit)\n",
        "  y_test_digit = (y_test == digit)\n",
        "\n",
        "  # convert class vectors to binary class matrices\n",
        "  y_train_digit = keras.utils.to_categorical(y_train_digit, 2)\n",
        "  y_test_digit = keras.utils.to_categorical(y_test_digit, 2)\n",
        "  #should be a different model per digit\n",
        "  model.fit(x_train, y_train_digit, batch_size=batch_size, epochs=30, verbose=0, validation_split=0.2)\n",
        "end = time.time()\n",
        "print(end - start)"
      ]
    },
    {
      "cell_type": "code",
      "execution_count": null,
      "metadata": {
        "id": "ccJLC-dd0OPh",
        "colab": {
          "base_uri": "https://localhost:8080/"
        },
        "outputId": "9e1c640d-b056-4cec-b519-c4d67e6c4d37"
      },
      "outputs": [
        {
          "output_type": "stream",
          "name": "stdout",
          "text": [
            "Test loss: 0.34266290068626404\n",
            "Test accuracy: 0.9941999912261963\n"
          ]
        }
      ],
      "source": [
        "score = model.evaluate(x_test, y_test_digit, verbose=0)\n",
        "print(\"Test loss:\", score[0])\n",
        "print(\"Test accuracy:\", score[1])\n"
      ]
    },
    {
      "cell_type": "code",
      "execution_count": null,
      "metadata": {
        "id": "f9ivQLl10ZYX"
      },
      "outputs": [],
      "source": [
        "def calc_prob_uncertainty(p):\n",
        "\n",
        "    evidence = np.maximum(p, 0)\n",
        "\n",
        "    alpha = evidence + 1\n",
        "\n",
        "    u = 10/ alpha.sum()\n",
        "    prob = alpha[np.argmax(alpha)] / alpha.sum()\n",
        "    return prob, u"
      ]
    },
    {
      "cell_type": "code",
      "execution_count": null,
      "metadata": {
        "id": "xUqQtXiw0rTm",
        "colab": {
          "base_uri": "https://localhost:8080/"
        },
        "outputId": "18c81643-7e48-4bd7-a4a6-5211ffaaf79a"
      },
      "outputs": [
        {
          "output_type": "stream",
          "name": "stdout",
          "text": [
            "313/313 [==============================] - 1s 4ms/step\n",
            "[[ 557.45374 -474.81244]\n",
            " [1208.2292  -905.5315 ]\n",
            " [ 398.83853 -254.10611]\n",
            " ...\n",
            " [ 122.20566  -97.29724]\n",
            " [ 354.3876  -289.88632]\n",
            " [ 572.1447  -400.4027 ]]\n",
            "[0 0 0 ... 0 0 0]\n",
            "[0 0 0 ... 0 0 0]\n",
            "0.9459446092977251\n",
            "Mean Brier score: 0.0058\n",
            "2350.2031667232513\n"
          ]
        }
      ],
      "source": [
        "y_pred1 = model.predict(x_test)\n",
        "y_pred =  np.argmax(y_pred1,axis=1)\n",
        "#y_test_digit=np.argmax(y_test_digit,axis=1)\n",
        "print(y_pred1)\n",
        "print(y_test_digit)\n",
        "print(y_pred)\n",
        "# Separating Wrong Responses of the CNN Classifier\n",
        "X_test_wrong, y_test_wrong = x_test[np.where(y_test_digit != y_pred)], y_test_digit[np.where(y_test_digit != y_pred)]\n",
        "\n",
        "# Separating Correct Responses of the CNN Classifier\n",
        "X_test_correct, y_test_correct = x_test[np.where(y_test_digit == y_pred)], y_test_digit[np.where(y_test_digit == y_pred)]\n",
        "\n",
        "r = 0\n",
        "N = 0\n",
        "E_F = np.zeros(2)\n",
        "\n",
        "for ii in range(2):\n",
        "    X_test_wrong_i, y_test_wrong_i = X_test_wrong[np.where(y_test_wrong == ii+1)], y_test_wrong[np.where(y_test_wrong == ii+1)]\n",
        "    X_test_correct_i, y_test_correct_i = x_test[np.where(y_test_correct == ii+1)], y_test_digit[np.where(y_test_correct == ii+1)]\n",
        "    r = X_test_wrong_i.shape[0]\n",
        "    N = X_test_wrong_i.shape[0] + X_test_correct_i.shape[0]\n",
        "\n",
        "    E_F[ii] = (1 + r)/(1+1+N)\n",
        "\n",
        "Reliability = 1 - 0.1*(sum(E_F))\n",
        "\n",
        "# Calc brier score\n",
        "\n",
        "mean_bs = np.mean((y_pred - y_test_digit) ** 2)\n",
        "print(Reliability)\n",
        "print(f\"Mean Brier score: {mean_bs}\")\n",
        "end = time.time()\n",
        "print(end - start)"
      ]
    },
    {
      "cell_type": "code",
      "source": [
        "probs = []\n",
        "uncs = []\n",
        "preds = []\n",
        "\n",
        "for pred in y_pred1:\n",
        "  p, u = calc_prob_uncertainty(pred)\n",
        "\n",
        "  probs.append(p)\n",
        "  uncs.append(u)\n",
        "  preds.append(np.argmax(pred))"
      ],
      "metadata": {
        "id": "lL_E-ybUhbqH"
      },
      "execution_count": null,
      "outputs": []
    },
    {
      "cell_type": "code",
      "source": [
        "idx = 1\n",
        "plt.imshow(x_test[idx][:,:])\n",
        "print(f'Actual: {y_test[idx]}')\n",
        "print(f'Predicted: {preds[idx]}') # since is a binary classifier it should say no is not a 2\n",
        "print(f'Probability: {probs[idx]}')\n",
        "print(f'Uncertainty: {uncs[idx]}')\n",
        "\n",
        "some_digit = x_train[idx]\n",
        "some_digit_show = plt.imshow(x_train[idx].reshape(28,28))\n",
        "#int(y_train_digit_cp[idx])"
      ],
      "metadata": {
        "id": "QBmHojiGhmNh",
        "colab": {
          "base_uri": "https://localhost:8080/",
          "height": 501
        },
        "outputId": "1542d553-dd8e-4270-dbd3-85a540cb2eb4"
      },
      "execution_count": null,
      "outputs": [
        {
          "output_type": "stream",
          "name": "stdout",
          "text": [
            "Actual: 2\n",
            "Predicted: 0\n",
            "Probability: 0.9991737008094788\n",
            "Uncertainty: 0.008262897311512238\n"
          ]
        },
        {
          "output_type": "display_data",
          "data": {
            "text/plain": [
              "<Figure size 640x480 with 1 Axes>"
            ],
            "image/png": "[encoded data removed]"
          },
          "metadata": {}
        }
      ]
    }
  ],
  "metadata": {
    "colab": {
      "provenance": [],
      "gpuType": "T4"
    },
    "kernelspec": {
      "display_name": "Python 3",
      "name": "python3"
    },
    "language_info": {
      "name": "python"
    },
    "accelerator": "GPU"
  },
  "nbformat": 4,
  "nbformat_minor": 0
}